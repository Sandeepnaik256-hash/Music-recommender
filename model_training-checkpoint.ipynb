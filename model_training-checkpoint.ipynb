{
 "cells": [
  {
   "cell_type": "code",
   "execution_count": 1,
   "id": "343cef62",
   "metadata": {},
   "outputs": [],
   "source": [
    "import pandas as pd\n"
   ]
  },
  {
   "cell_type": "code",
   "execution_count": 22,
   "id": "6681091f",
   "metadata": {},
   "outputs": [],
   "source": [
    "df = pd.read_csv(\"spotify_millsongdata.csv\")\n"
   ]
  },
  {
   "cell_type": "code",
   "execution_count": 23,
   "id": "434f6e48",
   "metadata": {},
   "outputs": [
    {
     "data": {
      "text/html": [
       "<div>\n",
       "<style scoped>\n",
       "    .dataframe tbody tr th:only-of-type {\n",
       "        vertical-align: middle;\n",
       "    }\n",
       "\n",
       "    .dataframe tbody tr th {\n",
       "        vertical-align: top;\n",
       "    }\n",
       "\n",
       "    .dataframe thead th {\n",
       "        text-align: right;\n",
       "    }\n",
       "</style>\n",
       "<table border=\"1\" class=\"dataframe\">\n",
       "  <thead>\n",
       "    <tr style=\"text-align: right;\">\n",
       "      <th></th>\n",
       "      <th>artist</th>\n",
       "      <th>song</th>\n",
       "      <th>link</th>\n",
       "      <th>text</th>\n",
       "    </tr>\n",
       "  </thead>\n",
       "  <tbody>\n",
       "    <tr>\n",
       "      <th>0</th>\n",
       "      <td>ABBA</td>\n",
       "      <td>Ahe's My Kind Of Girl</td>\n",
       "      <td>/a/abba/ahes+my+kind+of+girl_20598417.html</td>\n",
       "      <td>Look at her face, it's a wonderful face  \\r\\nA...</td>\n",
       "    </tr>\n",
       "    <tr>\n",
       "      <th>1</th>\n",
       "      <td>ABBA</td>\n",
       "      <td>Andante, Andante</td>\n",
       "      <td>/a/abba/andante+andante_20002708.html</td>\n",
       "      <td>Take it easy with me, please  \\r\\nTouch me gen...</td>\n",
       "    </tr>\n",
       "    <tr>\n",
       "      <th>2</th>\n",
       "      <td>ABBA</td>\n",
       "      <td>As Good As New</td>\n",
       "      <td>/a/abba/as+good+as+new_20003033.html</td>\n",
       "      <td>I'll never know why I had to go  \\r\\nWhy I had...</td>\n",
       "    </tr>\n",
       "    <tr>\n",
       "      <th>3</th>\n",
       "      <td>ABBA</td>\n",
       "      <td>Bang</td>\n",
       "      <td>/a/abba/bang_20598415.html</td>\n",
       "      <td>Making somebody happy is a question of give an...</td>\n",
       "    </tr>\n",
       "    <tr>\n",
       "      <th>4</th>\n",
       "      <td>ABBA</td>\n",
       "      <td>Bang-A-Boomerang</td>\n",
       "      <td>/a/abba/bang+a+boomerang_20002668.html</td>\n",
       "      <td>Making somebody happy is a question of give an...</td>\n",
       "    </tr>\n",
       "  </tbody>\n",
       "</table>\n",
       "</div>"
      ],
      "text/plain": [
       "  artist                   song                                        link  \\\n",
       "0   ABBA  Ahe's My Kind Of Girl  /a/abba/ahes+my+kind+of+girl_20598417.html   \n",
       "1   ABBA       Andante, Andante       /a/abba/andante+andante_20002708.html   \n",
       "2   ABBA         As Good As New        /a/abba/as+good+as+new_20003033.html   \n",
       "3   ABBA                   Bang                  /a/abba/bang_20598415.html   \n",
       "4   ABBA       Bang-A-Boomerang      /a/abba/bang+a+boomerang_20002668.html   \n",
       "\n",
       "                                                text  \n",
       "0  Look at her face, it's a wonderful face  \\r\\nA...  \n",
       "1  Take it easy with me, please  \\r\\nTouch me gen...  \n",
       "2  I'll never know why I had to go  \\r\\nWhy I had...  \n",
       "3  Making somebody happy is a question of give an...  \n",
       "4  Making somebody happy is a question of give an...  "
      ]
     },
     "execution_count": 23,
     "metadata": {},
     "output_type": "execute_result"
    }
   ],
   "source": [
    "df.head(5)"
   ]
  },
  {
   "cell_type": "code",
   "execution_count": 24,
   "id": "53e8fc38",
   "metadata": {},
   "outputs": [
    {
     "data": {
      "text/plain": [
       "(57650, 4)"
      ]
     },
     "execution_count": 24,
     "metadata": {},
     "output_type": "execute_result"
    }
   ],
   "source": [
    "df.shape\n"
   ]
  },
  {
   "cell_type": "code",
   "execution_count": 25,
   "id": "1a7a188d",
   "metadata": {},
   "outputs": [
    {
     "data": {
      "text/plain": [
       "artist    0\n",
       "song      0\n",
       "link      0\n",
       "text      0\n",
       "dtype: int64"
      ]
     },
     "execution_count": 25,
     "metadata": {},
     "output_type": "execute_result"
    }
   ],
   "source": [
    "df.isnull().sum()\n"
   ]
  },
  {
   "cell_type": "code",
   "execution_count": 26,
   "id": "1465fd81",
   "metadata": {},
   "outputs": [],
   "source": [
    "df = df.sample(5000).reset_index(drop=True)"
   ]
  },
  {
   "cell_type": "code",
   "execution_count": 27,
   "id": "b92b9222",
   "metadata": {},
   "outputs": [
    {
     "data": {
      "text/html": [
       "<div>\n",
       "<style scoped>\n",
       "    .dataframe tbody tr th:only-of-type {\n",
       "        vertical-align: middle;\n",
       "    }\n",
       "\n",
       "    .dataframe tbody tr th {\n",
       "        vertical-align: top;\n",
       "    }\n",
       "\n",
       "    .dataframe thead th {\n",
       "        text-align: right;\n",
       "    }\n",
       "</style>\n",
       "<table border=\"1\" class=\"dataframe\">\n",
       "  <thead>\n",
       "    <tr style=\"text-align: right;\">\n",
       "      <th></th>\n",
       "      <th>artist</th>\n",
       "      <th>song</th>\n",
       "      <th>link</th>\n",
       "      <th>text</th>\n",
       "    </tr>\n",
       "  </thead>\n",
       "  <tbody>\n",
       "    <tr>\n",
       "      <th>0</th>\n",
       "      <td>Leonard Cohen</td>\n",
       "      <td>Come Healing</td>\n",
       "      <td>/l/leonard+cohen/come+healing_20989501.html</td>\n",
       "      <td>O gather up the brokenness  \\r\\nAnd bring it t...</td>\n",
       "    </tr>\n",
       "    <tr>\n",
       "      <th>1</th>\n",
       "      <td>Bonnie Raitt</td>\n",
       "      <td>You Got It</td>\n",
       "      <td>/b/bonnie+raitt/you+got+it_20352154.html</td>\n",
       "      <td>Everytime I look  \\r\\nInto your lovely eyes  \\...</td>\n",
       "    </tr>\n",
       "    <tr>\n",
       "      <th>2</th>\n",
       "      <td>Helloween</td>\n",
       "      <td>Mr. Ego</td>\n",
       "      <td>/h/helloween/mr+ego_10141586.html</td>\n",
       "      <td>Take me down  \\r\\nTo the ground  \\r\\nJust let ...</td>\n",
       "    </tr>\n",
       "    <tr>\n",
       "      <th>3</th>\n",
       "      <td>Hank Williams Jr.</td>\n",
       "      <td>How Long Will You Keep Coming Back To Me</td>\n",
       "      <td>/h/hank+williams+jr/how+long+will+you+keep+com...</td>\n",
       "      <td>I know it's only natural  \\r\\nIt's just the ma...</td>\n",
       "    </tr>\n",
       "    <tr>\n",
       "      <th>4</th>\n",
       "      <td>Devo</td>\n",
       "      <td>Race Of Doom</td>\n",
       "      <td>/d/devo/race+of+doom_20039799.html</td>\n",
       "      <td>Race of doom  \\r\\nIs it on  \\r\\nIs it off  \\r\\...</td>\n",
       "    </tr>\n",
       "    <tr>\n",
       "      <th>5</th>\n",
       "      <td>Irving Berlin</td>\n",
       "      <td>Maybe It's Because</td>\n",
       "      <td>/i/irving+berlin/maybe+its+because_20068132.html</td>\n",
       "      <td>Maybe it's because the kiss you gave me, touch...</td>\n",
       "    </tr>\n",
       "    <tr>\n",
       "      <th>6</th>\n",
       "      <td>Zoegirl</td>\n",
       "      <td>Love Me For Me</td>\n",
       "      <td>/z/zoegirl/love+me+for+me_10198594.html</td>\n",
       "      <td>La da da da  \\r\\nLa da da da  \\r\\nLa da da da ...</td>\n",
       "    </tr>\n",
       "    <tr>\n",
       "      <th>7</th>\n",
       "      <td>Gary Numan</td>\n",
       "      <td>A Question Of Faith</td>\n",
       "      <td>/g/gary+numan/a+question+of+faith_20058425.html</td>\n",
       "      <td>I'll crawl for you  \\r\\nHurt if you want to  \\...</td>\n",
       "    </tr>\n",
       "    <tr>\n",
       "      <th>8</th>\n",
       "      <td>Emmylou Harris</td>\n",
       "      <td>It's Only Rock 'n Roll</td>\n",
       "      <td>/e/emmylou+harris/its+only+rock+n+roll_2005025...</td>\n",
       "      <td>Well, it's only rock and roll keep you running...</td>\n",
       "    </tr>\n",
       "    <tr>\n",
       "      <th>9</th>\n",
       "      <td>Backstreet Boys</td>\n",
       "      <td>If You Stay</td>\n",
       "      <td>/b/backstreet+boys/if+you+stay_20011613.html</td>\n",
       "      <td>Ohh la da da da da da da  \\r\\nTo you babe, you...</td>\n",
       "    </tr>\n",
       "  </tbody>\n",
       "</table>\n",
       "</div>"
      ],
      "text/plain": [
       "              artist                                      song  \\\n",
       "0      Leonard Cohen                              Come Healing   \n",
       "1       Bonnie Raitt                                You Got It   \n",
       "2          Helloween                                   Mr. Ego   \n",
       "3  Hank Williams Jr.  How Long Will You Keep Coming Back To Me   \n",
       "4               Devo                              Race Of Doom   \n",
       "5      Irving Berlin                        Maybe It's Because   \n",
       "6            Zoegirl                            Love Me For Me   \n",
       "7         Gary Numan                       A Question Of Faith   \n",
       "8     Emmylou Harris                    It's Only Rock 'n Roll   \n",
       "9    Backstreet Boys                               If You Stay   \n",
       "\n",
       "                                                link  \\\n",
       "0        /l/leonard+cohen/come+healing_20989501.html   \n",
       "1           /b/bonnie+raitt/you+got+it_20352154.html   \n",
       "2                  /h/helloween/mr+ego_10141586.html   \n",
       "3  /h/hank+williams+jr/how+long+will+you+keep+com...   \n",
       "4                 /d/devo/race+of+doom_20039799.html   \n",
       "5   /i/irving+berlin/maybe+its+because_20068132.html   \n",
       "6            /z/zoegirl/love+me+for+me_10198594.html   \n",
       "7    /g/gary+numan/a+question+of+faith_20058425.html   \n",
       "8  /e/emmylou+harris/its+only+rock+n+roll_2005025...   \n",
       "9       /b/backstreet+boys/if+you+stay_20011613.html   \n",
       "\n",
       "                                                text  \n",
       "0  O gather up the brokenness  \\r\\nAnd bring it t...  \n",
       "1  Everytime I look  \\r\\nInto your lovely eyes  \\...  \n",
       "2  Take me down  \\r\\nTo the ground  \\r\\nJust let ...  \n",
       "3  I know it's only natural  \\r\\nIt's just the ma...  \n",
       "4  Race of doom  \\r\\nIs it on  \\r\\nIs it off  \\r\\...  \n",
       "5  Maybe it's because the kiss you gave me, touch...  \n",
       "6  La da da da  \\r\\nLa da da da  \\r\\nLa da da da ...  \n",
       "7  I'll crawl for you  \\r\\nHurt if you want to  \\...  \n",
       "8  Well, it's only rock and roll keep you running...  \n",
       "9  Ohh la da da da da da da  \\r\\nTo you babe, you...  "
      ]
     },
     "execution_count": 27,
     "metadata": {},
     "output_type": "execute_result"
    }
   ],
   "source": [
    "df.head(10)\n"
   ]
  },
  {
   "cell_type": "code",
   "execution_count": 28,
   "id": "dfd03e76",
   "metadata": {},
   "outputs": [
    {
     "data": {
      "text/plain": [
       "(5000, 4)"
      ]
     },
     "execution_count": 28,
     "metadata": {},
     "output_type": "execute_result"
    }
   ],
   "source": [
    "df.shape\n"
   ]
  },
  {
   "cell_type": "code",
   "execution_count": 29,
   "id": "0ef505ee",
   "metadata": {},
   "outputs": [],
   "source": [
    "df['text'] = df['text'].str.lower().replace(r'^\\w\\s', ' ').replace(r'\\n', ' ', regex=True)\n"
   ]
  },
  {
   "cell_type": "code",
   "execution_count": 30,
   "id": "1ccdd552",
   "metadata": {},
   "outputs": [
    {
     "data": {
      "text/html": [
       "<div>\n",
       "<style scoped>\n",
       "    .dataframe tbody tr th:only-of-type {\n",
       "        vertical-align: middle;\n",
       "    }\n",
       "\n",
       "    .dataframe tbody tr th {\n",
       "        vertical-align: top;\n",
       "    }\n",
       "\n",
       "    .dataframe thead th {\n",
       "        text-align: right;\n",
       "    }\n",
       "</style>\n",
       "<table border=\"1\" class=\"dataframe\">\n",
       "  <thead>\n",
       "    <tr style=\"text-align: right;\">\n",
       "      <th></th>\n",
       "      <th>artist</th>\n",
       "      <th>song</th>\n",
       "      <th>link</th>\n",
       "      <th>text</th>\n",
       "    </tr>\n",
       "  </thead>\n",
       "  <tbody>\n",
       "    <tr>\n",
       "      <th>4995</th>\n",
       "      <td>Alice In Chains</td>\n",
       "      <td>Real Thing</td>\n",
       "      <td>/a/alice+in+chains/real+thing_20005885.html</td>\n",
       "      <td>i messed around as a little boy  \\r i grew up,...</td>\n",
       "    </tr>\n",
       "    <tr>\n",
       "      <th>4996</th>\n",
       "      <td>John Waite</td>\n",
       "      <td>Special One</td>\n",
       "      <td>/j/john+waite/special+one_20289904.html</td>\n",
       "      <td>i know you're someone's daughter  \\r you know ...</td>\n",
       "    </tr>\n",
       "    <tr>\n",
       "      <th>4997</th>\n",
       "      <td>Johnny Cash</td>\n",
       "      <td>Farther Along</td>\n",
       "      <td>/j/johnny+cash/farther+along_20200405.html</td>\n",
       "      <td>tempted and tried we're oft made to wonder why...</td>\n",
       "    </tr>\n",
       "    <tr>\n",
       "      <th>4998</th>\n",
       "      <td>Everlast</td>\n",
       "      <td>Syndication</td>\n",
       "      <td>/e/everlast/syndication_20353290.html</td>\n",
       "      <td>(wait a minute)  \\r dope new styles of rhyme, ...</td>\n",
       "    </tr>\n",
       "    <tr>\n",
       "      <th>4999</th>\n",
       "      <td>Kirk Franklin</td>\n",
       "      <td>Declaration (This Is It)</td>\n",
       "      <td>/k/kirk+franklin/declaration+this+is+it_206629...</td>\n",
       "      <td>check it out, y'all  \\r (there've been times i...</td>\n",
       "    </tr>\n",
       "  </tbody>\n",
       "</table>\n",
       "</div>"
      ],
      "text/plain": [
       "               artist                      song  \\\n",
       "4995  Alice In Chains                Real Thing   \n",
       "4996       John Waite               Special One   \n",
       "4997      Johnny Cash             Farther Along   \n",
       "4998         Everlast               Syndication   \n",
       "4999    Kirk Franklin  Declaration (This Is It)   \n",
       "\n",
       "                                                   link  \\\n",
       "4995        /a/alice+in+chains/real+thing_20005885.html   \n",
       "4996            /j/john+waite/special+one_20289904.html   \n",
       "4997         /j/johnny+cash/farther+along_20200405.html   \n",
       "4998              /e/everlast/syndication_20353290.html   \n",
       "4999  /k/kirk+franklin/declaration+this+is+it_206629...   \n",
       "\n",
       "                                                   text  \n",
       "4995  i messed around as a little boy  \\r i grew up,...  \n",
       "4996  i know you're someone's daughter  \\r you know ...  \n",
       "4997  tempted and tried we're oft made to wonder why...  \n",
       "4998  (wait a minute)  \\r dope new styles of rhyme, ...  \n",
       "4999  check it out, y'all  \\r (there've been times i...  "
      ]
     },
     "execution_count": 30,
     "metadata": {},
     "output_type": "execute_result"
    }
   ],
   "source": [
    "df.tail(5)"
   ]
  },
  {
   "cell_type": "code",
   "execution_count": 31,
   "id": "14e81a94",
   "metadata": {},
   "outputs": [],
   "source": [
    "import nltk\n",
    "from nltk.stem.porter import PorterStemmer\n",
    "stemmer = PorterStemmer()\n",
    "def tokenization(txt):\n",
    "    tokens = nltk.word_tokenize(txt)\n",
    "    stemming = [stemmer.stem(w) for w in tokens]\n",
    "    return \" \".join(stemming)\n"
   ]
  },
  {
   "cell_type": "code",
   "execution_count": 32,
   "id": "4b07e335",
   "metadata": {},
   "outputs": [
    {
     "name": "stderr",
     "output_type": "stream",
     "text": [
      "[nltk_data] Downloading package punkt to\n",
      "[nltk_data]     C:\\Users\\manas\\AppData\\Roaming\\nltk_data...\n",
      "[nltk_data]   Package punkt is already up-to-date!\n"
     ]
    },
    {
     "data": {
      "text/plain": [
       "True"
      ]
     },
     "execution_count": 32,
     "metadata": {},
     "output_type": "execute_result"
    }
   ],
   "source": [
    "import nltk\n",
    "nltk.download('punkt')\n"
   ]
  },
  {
   "cell_type": "code",
   "execution_count": 33,
   "id": "f1ed0776",
   "metadata": {},
   "outputs": [],
   "source": [
    "df['text'] = df['text'].apply(lambda x: tokenization(x))\n"
   ]
  },
  {
   "cell_type": "code",
   "execution_count": 14,
   "id": "a3cdf1c0",
   "metadata": {},
   "outputs": [],
   "source": [
    "from sklearn.feature_extraction.text import TfidfVectorizer\n",
    "from sklearn.metrics.pairwise import cosine_similarity\n"
   ]
  },
  {
   "cell_type": "code",
   "execution_count": 15,
   "id": "35a032b5",
   "metadata": {},
   "outputs": [],
   "source": [
    "tfidvector = TfidfVectorizer(analyzer='word', stop_words='english')\n",
    "matrix = tfidvector.fit_transform(df['text'])\n",
    "similarity = cosine_similarity(matrix)"
   ]
  },
  {
   "cell_type": "code",
   "execution_count": 18,
   "id": "1458c331",
   "metadata": {},
   "outputs": [],
   "source": [
    "import pickle\n"
   ]
  },
  {
   "cell_type": "code",
   "execution_count": 19,
   "id": "eecf2474",
   "metadata": {},
   "outputs": [],
   "source": [
    "pickle.dump(similarity, open('similarity.pkl', 'wb'))\n",
    "pickle.dump(df, open('df.pkl', 'wb'))"
   ]
  },
  {
   "cell_type": "code",
   "execution_count": null,
   "id": "e7c03a1c",
   "metadata": {},
   "outputs": [],
   "source": []
  }
 ],
 "metadata": {
  "kernelspec": {
   "display_name": "Python 3 (ipykernel)",
   "language": "python",
   "name": "python3"
  },
  "language_info": {
   "codemirror_mode": {
    "name": "ipython",
    "version": 3
   },
   "file_extension": ".py",
   "mimetype": "text/x-python",
   "name": "python",
   "nbconvert_exporter": "python",
   "pygments_lexer": "ipython3",
   "version": "3.11.5"
  }
 },
 "nbformat": 4,
 "nbformat_minor": 5
}
